{
  "nbformat": 4,
  "nbformat_minor": 0,
  "metadata": {
    "colab": {
      "provenance": []
    },
    "kernelspec": {
      "name": "python3",
      "display_name": "Python 3"
    },
    "language_info": {
      "name": "python"
    },
    "accelerator": "GPU",
    "gpuClass": "standard"
  },
  "cells": [
    {
      "cell_type": "markdown",
      "source": [
        "Importing Required Libraries"
      ],
      "metadata": {
        "id": "xSIW94efm9Nd"
      }
    },
    {
      "cell_type": "code",
      "execution_count": null,
      "metadata": {
        "id": "ahyo5dDFmzPs"
      },
      "outputs": [],
      "source": [
        "import os\n",
        "import zipfile\n",
        "import tensorflow as tf\n",
        "from tensorflow.keras.optimizers import RMSprop\n",
        "from tensorflow.keras.preprocessing.image import ImageDataGenerator\n",
        "import matplotlib.pyplot as plt"
      ]
    },
    {
      "cell_type": "markdown",
      "source": [
        "Extracting data and assigning in Variables"
      ],
      "metadata": {
        "id": "llp7Dt3GnWbm"
      }
    },
    {
      "cell_type": "code",
      "source": [
        "#Extracting\n",
        "datazip = zipfile.ZipFile(\"./cats_and_dogs_filtered.zip\", 'r')\n",
        "datazip.extractall(\"tmp/\")\n",
        "datazip.close()\n",
        "\n",
        "#Assigning training and validation directory\n",
        "\n",
        "data_dir = 'tmp/cats_and_dogs_filtered'\n",
        "train_dir = os.path.join(data_dir, 'train')\n",
        "validation_dir = os.path.join(data_dir, 'validation')\n",
        "\n",
        "train_cats_dir = os.path.join(train_dir, 'cats')\n",
        "train_dogs_dir = os.path.join(train_dir, 'dogs')\n",
        "validation_cats_dir = os.path.join(validation_dir, 'cats')\n",
        "validation_dogs_dir = os.path.join(validation_dir, 'dogs')"
      ],
      "metadata": {
        "id": "m0Cn19qbnV8x"
      },
      "execution_count": null,
      "outputs": []
    },
    {
      "cell_type": "markdown",
      "source": [
        "Creating Model"
      ],
      "metadata": {
        "id": "YsLAx7Rtop1H"
      }
    },
    {
      "cell_type": "code",
      "source": [
        "def create_model():\n",
        "  model = tf.keras.models.Sequential([\n",
        "      tf.keras.layers.Conv2D(32, (3,3), activation='relu', input_shape=(150, 150, 3)),\n",
        "      tf.keras.layers.MaxPooling2D(2, 2),\n",
        "      tf.keras.layers.Conv2D(64, (3,3), activation='relu'),\n",
        "      tf.keras.layers.MaxPooling2D(2,2),\n",
        "      tf.keras.layers.Conv2D(128, (3,3), activation='relu'),\n",
        "      tf.keras.layers.MaxPooling2D(2,2),\n",
        "      tf.keras.layers.Conv2D(128, (3,3), activation='relu'),\n",
        "      tf.keras.layers.MaxPooling2D(2,2),\n",
        "      tf.keras.layers.Flatten(),\n",
        "      tf.keras.layers.Dense(512, activation='relu'),\n",
        "      tf.keras.layers.Dense(1, activation='sigmoid')\n",
        "  ])\n",
        "\n",
        "  model.compile(loss='binary_crossentropy',\n",
        "                optimizer=RMSprop(learning_rate=1e-4),\n",
        "                metrics=['accuracy'])\n",
        "  \n",
        "  return model"
      ],
      "metadata": {
        "id": "jrKU2ht9osAf"
      },
      "execution_count": null,
      "outputs": []
    },
    {
      "cell_type": "markdown",
      "source": [
        "Data Processing "
      ],
      "metadata": {
        "id": "EtlB92P-pWNA"
      }
    },
    {
      "cell_type": "markdown",
      "source": [
        "Data Processing, Data Augmentation and Model Creation"
      ],
      "metadata": {
        "id": "PewgXBi7p55i"
      }
    },
    {
      "cell_type": "code",
      "source": [
        "model = create_model()\n",
        "EPOCHS = 50\n",
        "\n",
        "train_datagen = ImageDataGenerator(\n",
        "      rescale=1./255,\n",
        "      rotation_range=40,\n",
        "      width_shift_range=0.2,\n",
        "      height_shift_range=0.2,\n",
        "      shear_range=0.2,\n",
        "      zoom_range=0.2,\n",
        "      horizontal_flip=True,\n",
        "      fill_mode='nearest')\n",
        "\n",
        "test_datagen = ImageDataGenerator(rescale=1./255)\n",
        "\n",
        "train_generator = train_datagen.flow_from_directory(\n",
        "        train_dir,\n",
        "        target_size=(150, 150),\n",
        "        batch_size=20,\n",
        "        class_mode='binary')\n",
        "\n",
        "validation_generator = test_datagen.flow_from_directory(\n",
        "        validation_dir,\n",
        "        target_size=(150, 150),\n",
        "        batch_size=20,\n",
        "        class_mode='binary')\n",
        "\n",
        "history = model.fit(\n",
        "      train_generator,\n",
        "      steps_per_epoch=100,\n",
        "      epochs=EPOCHS,\n",
        "      validation_data=validation_generator,\n",
        "      validation_steps=50,\n",
        "      verbose=2)"
      ],
      "metadata": {
        "colab": {
          "base_uri": "https://localhost:8080/"
        },
        "id": "UkIKS6MRpv9g",
        "outputId": "de76718b-f622-4f50-d3a7-04a1fafe03af"
      },
      "execution_count": null,
      "outputs": [
        {
          "output_type": "stream",
          "name": "stdout",
          "text": [
            "Found 2000 images belonging to 2 classes.\n",
            "Found 1000 images belonging to 2 classes.\n",
            "Epoch 1/50\n",
            "100/100 - 26s - loss: 0.6944 - accuracy: 0.5070 - val_loss: 0.6806 - val_accuracy: 0.5880 - 26s/epoch - 262ms/step\n",
            "Epoch 2/50\n",
            "100/100 - 16s - loss: 0.6850 - accuracy: 0.5510 - val_loss: 0.6607 - val_accuracy: 0.6080 - 16s/epoch - 160ms/step\n",
            "Epoch 3/50\n",
            "100/100 - 16s - loss: 0.6718 - accuracy: 0.5800 - val_loss: 0.6504 - val_accuracy: 0.6090 - 16s/epoch - 160ms/step\n",
            "Epoch 4/50\n",
            "100/100 - 17s - loss: 0.6526 - accuracy: 0.6135 - val_loss: 0.6244 - val_accuracy: 0.6270 - 17s/epoch - 166ms/step\n",
            "Epoch 5/50\n",
            "100/100 - 19s - loss: 0.6324 - accuracy: 0.6315 - val_loss: 0.5887 - val_accuracy: 0.6750 - 19s/epoch - 192ms/step\n",
            "Epoch 6/50\n",
            "100/100 - 16s - loss: 0.6217 - accuracy: 0.6470 - val_loss: 0.5680 - val_accuracy: 0.6940 - 16s/epoch - 160ms/step\n",
            "Epoch 7/50\n",
            "100/100 - 16s - loss: 0.6078 - accuracy: 0.6630 - val_loss: 0.5571 - val_accuracy: 0.7020 - 16s/epoch - 159ms/step\n",
            "Epoch 8/50\n",
            "100/100 - 16s - loss: 0.5956 - accuracy: 0.6600 - val_loss: 0.5528 - val_accuracy: 0.7160 - 16s/epoch - 159ms/step\n",
            "Epoch 9/50\n",
            "100/100 - 16s - loss: 0.5879 - accuracy: 0.6710 - val_loss: 0.5962 - val_accuracy: 0.6660 - 16s/epoch - 158ms/step\n",
            "Epoch 10/50\n",
            "100/100 - 16s - loss: 0.5915 - accuracy: 0.6690 - val_loss: 0.5554 - val_accuracy: 0.7000 - 16s/epoch - 158ms/step\n",
            "Epoch 11/50\n",
            "100/100 - 16s - loss: 0.5770 - accuracy: 0.7035 - val_loss: 0.5352 - val_accuracy: 0.7220 - 16s/epoch - 159ms/step\n",
            "Epoch 12/50\n",
            "100/100 - 16s - loss: 0.5705 - accuracy: 0.7035 - val_loss: 0.5443 - val_accuracy: 0.7050 - 16s/epoch - 160ms/step\n",
            "Epoch 13/50\n",
            "100/100 - 16s - loss: 0.5691 - accuracy: 0.7005 - val_loss: 0.5377 - val_accuracy: 0.7160 - 16s/epoch - 158ms/step\n",
            "Epoch 14/50\n",
            "100/100 - 16s - loss: 0.5562 - accuracy: 0.7110 - val_loss: 0.5210 - val_accuracy: 0.7340 - 16s/epoch - 159ms/step\n",
            "Epoch 15/50\n",
            "100/100 - 16s - loss: 0.5589 - accuracy: 0.7050 - val_loss: 0.5522 - val_accuracy: 0.7130 - 16s/epoch - 157ms/step\n",
            "Epoch 16/50\n",
            "100/100 - 16s - loss: 0.5480 - accuracy: 0.7145 - val_loss: 0.4996 - val_accuracy: 0.7570 - 16s/epoch - 159ms/step\n",
            "Epoch 17/50\n",
            "100/100 - 16s - loss: 0.5513 - accuracy: 0.7235 - val_loss: 0.5470 - val_accuracy: 0.7190 - 16s/epoch - 159ms/step\n",
            "Epoch 18/50\n",
            "100/100 - 16s - loss: 0.5504 - accuracy: 0.7270 - val_loss: 0.5114 - val_accuracy: 0.7370 - 16s/epoch - 157ms/step\n",
            "Epoch 19/50\n",
            "100/100 - 16s - loss: 0.5513 - accuracy: 0.7045 - val_loss: 0.5191 - val_accuracy: 0.7330 - 16s/epoch - 157ms/step\n",
            "Epoch 20/50\n",
            "100/100 - 16s - loss: 0.5388 - accuracy: 0.7290 - val_loss: 0.4968 - val_accuracy: 0.7510 - 16s/epoch - 161ms/step\n",
            "Epoch 21/50\n",
            "100/100 - 16s - loss: 0.5196 - accuracy: 0.7400 - val_loss: 0.4872 - val_accuracy: 0.7520 - 16s/epoch - 157ms/step\n",
            "Epoch 22/50\n",
            "100/100 - 16s - loss: 0.5223 - accuracy: 0.7390 - val_loss: 0.5065 - val_accuracy: 0.7490 - 16s/epoch - 159ms/step\n",
            "Epoch 23/50\n",
            "100/100 - 16s - loss: 0.5093 - accuracy: 0.7545 - val_loss: 0.4890 - val_accuracy: 0.7520 - 16s/epoch - 157ms/step\n",
            "Epoch 24/50\n",
            "100/100 - 16s - loss: 0.5082 - accuracy: 0.7495 - val_loss: 0.4777 - val_accuracy: 0.7700 - 16s/epoch - 159ms/step\n",
            "Epoch 25/50\n",
            "100/100 - 16s - loss: 0.4993 - accuracy: 0.7555 - val_loss: 0.5332 - val_accuracy: 0.7370 - 16s/epoch - 157ms/step\n",
            "Epoch 26/50\n",
            "100/100 - 16s - loss: 0.5109 - accuracy: 0.7480 - val_loss: 0.5245 - val_accuracy: 0.7360 - 16s/epoch - 159ms/step\n",
            "Epoch 27/50\n",
            "100/100 - 16s - loss: 0.4945 - accuracy: 0.7685 - val_loss: 0.5227 - val_accuracy: 0.7240 - 16s/epoch - 160ms/step\n",
            "Epoch 28/50\n",
            "100/100 - 16s - loss: 0.5012 - accuracy: 0.7465 - val_loss: 0.4960 - val_accuracy: 0.7530 - 16s/epoch - 158ms/step\n",
            "Epoch 29/50\n",
            "100/100 - 18s - loss: 0.5002 - accuracy: 0.7445 - val_loss: 0.4651 - val_accuracy: 0.7650 - 18s/epoch - 175ms/step\n",
            "Epoch 30/50\n",
            "100/100 - 16s - loss: 0.5016 - accuracy: 0.7410 - val_loss: 0.4985 - val_accuracy: 0.7540 - 16s/epoch - 158ms/step\n",
            "Epoch 31/50\n",
            "100/100 - 16s - loss: 0.5006 - accuracy: 0.7470 - val_loss: 0.4730 - val_accuracy: 0.7840 - 16s/epoch - 159ms/step\n",
            "Epoch 32/50\n",
            "100/100 - 16s - loss: 0.4958 - accuracy: 0.7480 - val_loss: 0.4835 - val_accuracy: 0.7630 - 16s/epoch - 159ms/step\n",
            "Epoch 33/50\n",
            "100/100 - 16s - loss: 0.5013 - accuracy: 0.7515 - val_loss: 0.4834 - val_accuracy: 0.7700 - 16s/epoch - 159ms/step\n",
            "Epoch 34/50\n",
            "100/100 - 16s - loss: 0.4752 - accuracy: 0.7660 - val_loss: 0.4743 - val_accuracy: 0.7600 - 16s/epoch - 157ms/step\n",
            "Epoch 35/50\n",
            "100/100 - 16s - loss: 0.4888 - accuracy: 0.7590 - val_loss: 0.4495 - val_accuracy: 0.7840 - 16s/epoch - 159ms/step\n",
            "Epoch 36/50\n",
            "100/100 - 16s - loss: 0.4899 - accuracy: 0.7655 - val_loss: 0.4905 - val_accuracy: 0.7420 - 16s/epoch - 158ms/step\n",
            "Epoch 37/50\n",
            "100/100 - 16s - loss: 0.4697 - accuracy: 0.7595 - val_loss: 0.4630 - val_accuracy: 0.7710 - 16s/epoch - 158ms/step\n",
            "Epoch 38/50\n",
            "100/100 - 16s - loss: 0.4590 - accuracy: 0.7810 - val_loss: 0.4949 - val_accuracy: 0.7590 - 16s/epoch - 158ms/step\n",
            "Epoch 39/50\n",
            "100/100 - 16s - loss: 0.4661 - accuracy: 0.7865 - val_loss: 0.4769 - val_accuracy: 0.7590 - 16s/epoch - 158ms/step\n",
            "Epoch 40/50\n",
            "100/100 - 16s - loss: 0.4544 - accuracy: 0.7870 - val_loss: 0.4285 - val_accuracy: 0.8040 - 16s/epoch - 157ms/step\n",
            "Epoch 41/50\n",
            "100/100 - 16s - loss: 0.4693 - accuracy: 0.7780 - val_loss: 0.4519 - val_accuracy: 0.7760 - 16s/epoch - 158ms/step\n",
            "Epoch 42/50\n",
            "100/100 - 16s - loss: 0.4628 - accuracy: 0.7820 - val_loss: 0.4371 - val_accuracy: 0.7900 - 16s/epoch - 159ms/step\n",
            "Epoch 43/50\n",
            "100/100 - 16s - loss: 0.4501 - accuracy: 0.7885 - val_loss: 0.4519 - val_accuracy: 0.7790 - 16s/epoch - 157ms/step\n",
            "Epoch 44/50\n",
            "100/100 - 16s - loss: 0.4599 - accuracy: 0.7820 - val_loss: 0.4395 - val_accuracy: 0.7930 - 16s/epoch - 158ms/step\n",
            "Epoch 45/50\n",
            "100/100 - 16s - loss: 0.4557 - accuracy: 0.7825 - val_loss: 0.4524 - val_accuracy: 0.7760 - 16s/epoch - 157ms/step\n",
            "Epoch 46/50\n",
            "100/100 - 16s - loss: 0.4706 - accuracy: 0.7675 - val_loss: 0.5128 - val_accuracy: 0.7330 - 16s/epoch - 158ms/step\n",
            "Epoch 47/50\n",
            "100/100 - 16s - loss: 0.4524 - accuracy: 0.7935 - val_loss: 0.4818 - val_accuracy: 0.7710 - 16s/epoch - 158ms/step\n",
            "Epoch 48/50\n",
            "100/100 - 16s - loss: 0.4494 - accuracy: 0.7845 - val_loss: 0.4271 - val_accuracy: 0.8000 - 16s/epoch - 157ms/step\n",
            "Epoch 49/50\n",
            "100/100 - 16s - loss: 0.4419 - accuracy: 0.7940 - val_loss: 0.4867 - val_accuracy: 0.7570 - 16s/epoch - 158ms/step\n",
            "Epoch 50/50\n",
            "100/100 - 16s - loss: 0.4513 - accuracy: 0.7830 - val_loss: 0.4260 - val_accuracy: 0.8060 - 16s/epoch - 157ms/step\n"
          ]
        }
      ]
    },
    {
      "cell_type": "markdown",
      "source": [
        "Plotting Accuray graph"
      ],
      "metadata": {
        "id": "I9a4P-x5qux1"
      }
    },
    {
      "cell_type": "code",
      "source": [
        "t_acc = history.history['accuracy']\n",
        "val_acc = history.history['val_accuracy']\n",
        "loss = history.history['loss']\n",
        "val_loss = history.history['val_loss']\n",
        "\n",
        "epochs = range(len(t_acc))\n",
        "\n",
        "plt.plot(epochs, t_acc, 'bo', label='Training accuracy')\n",
        "plt.plot(epochs, val_acc, 'b', label='Validation accuracy')\n",
        "plt.title('Training and validation accuracy')\n",
        "\n",
        "plt.figure()\n",
        "\n",
        "plt.plot(epochs, loss, 'bo', label='Training Loss')\n",
        "plt.plot(epochs, val_loss, 'b', label='Validation Loss')\n",
        "plt.title('Training and validation loss')\n",
        "plt.legend()\n",
        "\n",
        "plt.show()"
      ],
      "metadata": {
        "colab": {
          "base_uri": "https://localhost:8080/",
          "height": 545
        },
        "id": "ySISUczuquY2",
        "outputId": "83289991-18d5-4133-c1e5-0566a4b1918c"
      },
      "execution_count": null,
      "outputs": [
        {
          "output_type": "display_data",
          "data": {
            "text/plain": [
              "<Figure size 432x288 with 1 Axes>"
            ],
            "image/png": "[encoded data removed]"
          },
          "metadata": {
            "needs_background": "light"
          }
        },
        {
          "output_type": "display_data",
          "data": {
            "text/plain": [
              "<Figure size 432x288 with 1 Axes>"
            ],
            "image/png": "[encoded data removed]"
          },
          "metadata": {
            "needs_background": "light"
          }
        }
      ]
    }
  ]
}